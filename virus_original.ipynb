{
 "cells": [
  {
   "cell_type": "code",
   "execution_count": 15,
   "metadata": {},
   "outputs": [
    {
     "ename": "KeyError",
     "evalue": "'data'",
     "output_type": "error",
     "traceback": [
      "\u001b[1;31m---------------------------------------------------------------------------\u001b[0m",
      "\u001b[1;31mKeyError\u001b[0m                                  Traceback (most recent call last)",
      "\u001b[1;32m<ipython-input-15-a559fb493a7a>\u001b[0m in \u001b[0;36m<module>\u001b[1;34m\u001b[0m\n\u001b[0;32m    133\u001b[0m \u001b[1;32mif\u001b[0m \u001b[0m__name__\u001b[0m \u001b[1;33m==\u001b[0m \u001b[1;34m'__main__'\u001b[0m\u001b[1;33m:\u001b[0m\u001b[1;33m\u001b[0m\u001b[1;33m\u001b[0m\u001b[0m\n\u001b[0;32m    134\u001b[0m \u001b[1;31m#     plot_daily()\u001b[0m\u001b[1;33m\u001b[0m\u001b[1;33m\u001b[0m\u001b[1;33m\u001b[0m\u001b[0m\n\u001b[1;32m--> 135\u001b[1;33m     \u001b[0mplot_distribution\u001b[0m\u001b[1;33m(\u001b[0m\u001b[1;33m)\u001b[0m\u001b[1;33m\u001b[0m\u001b[1;33m\u001b[0m\u001b[0m\n\u001b[0m",
      "\u001b[1;32m<ipython-input-15-a559fb493a7a>\u001b[0m in \u001b[0;36mplot_distribution\u001b[1;34m()\u001b[0m\n\u001b[0;32m     76\u001b[0m     \u001b[1;34m\"\"\"绘制行政区域确诊分布数据\"\"\"\u001b[0m\u001b[1;33m\u001b[0m\u001b[1;33m\u001b[0m\u001b[0m\n\u001b[0;32m     77\u001b[0m \u001b[1;33m\u001b[0m\u001b[0m\n\u001b[1;32m---> 78\u001b[1;33m     \u001b[0mdata\u001b[0m \u001b[1;33m=\u001b[0m \u001b[0mcatch_distribution\u001b[0m\u001b[1;33m(\u001b[0m\u001b[1;33m)\u001b[0m\u001b[1;33m\u001b[0m\u001b[1;33m\u001b[0m\u001b[0m\n\u001b[0m\u001b[0;32m     79\u001b[0m \u001b[1;33m\u001b[0m\u001b[0m\n\u001b[0;32m     80\u001b[0m     \u001b[0mfont\u001b[0m \u001b[1;33m=\u001b[0m \u001b[0mFontProperties\u001b[0m\u001b[1;33m(\u001b[0m\u001b[0mfname\u001b[0m\u001b[1;33m=\u001b[0m\u001b[1;34m'res/simsun.ttf'\u001b[0m\u001b[1;33m,\u001b[0m \u001b[0msize\u001b[0m\u001b[1;33m=\u001b[0m\u001b[1;36m14\u001b[0m\u001b[1;33m)\u001b[0m\u001b[1;33m\u001b[0m\u001b[1;33m\u001b[0m\u001b[0m\n",
      "\u001b[1;32m<ipython-input-15-a559fb493a7a>\u001b[0m in \u001b[0;36mcatch_distribution\u001b[1;34m()\u001b[0m\n\u001b[0;32m     46\u001b[0m     \u001b[0mdata\u001b[0m \u001b[1;33m=\u001b[0m \u001b[1;33m{\u001b[0m\u001b[1;34m'西藏'\u001b[0m\u001b[1;33m:\u001b[0m\u001b[1;36m0\u001b[0m\u001b[1;33m}\u001b[0m\u001b[1;33m\u001b[0m\u001b[1;33m\u001b[0m\u001b[0m\n\u001b[0;32m     47\u001b[0m     \u001b[0murl\u001b[0m \u001b[1;33m=\u001b[0m \u001b[1;34m'https://view.inews.qq.com/g2/getOnsInfo?name=wuwei_ww_area_counts&callback=&_=%d'\u001b[0m\u001b[1;33m%\u001b[0m\u001b[0mint\u001b[0m\u001b[1;33m(\u001b[0m\u001b[0mtime\u001b[0m\u001b[1;33m.\u001b[0m\u001b[0mtime\u001b[0m\u001b[1;33m(\u001b[0m\u001b[1;33m)\u001b[0m\u001b[1;33m*\u001b[0m\u001b[1;36m1000\u001b[0m\u001b[1;33m)\u001b[0m\u001b[1;33m\u001b[0m\u001b[1;33m\u001b[0m\u001b[0m\n\u001b[1;32m---> 48\u001b[1;33m     \u001b[1;32mfor\u001b[0m \u001b[0mitem\u001b[0m \u001b[1;32min\u001b[0m \u001b[0mjson\u001b[0m\u001b[1;33m.\u001b[0m\u001b[0mloads\u001b[0m\u001b[1;33m(\u001b[0m\u001b[0mrequests\u001b[0m\u001b[1;33m.\u001b[0m\u001b[0mget\u001b[0m\u001b[1;33m(\u001b[0m\u001b[0murl\u001b[0m\u001b[1;33m=\u001b[0m\u001b[0murl\u001b[0m\u001b[1;33m)\u001b[0m\u001b[1;33m.\u001b[0m\u001b[0mjson\u001b[0m\u001b[1;33m(\u001b[0m\u001b[1;33m)\u001b[0m\u001b[1;33m[\u001b[0m\u001b[1;34m'data'\u001b[0m\u001b[1;33m]\u001b[0m\u001b[1;33m)\u001b[0m\u001b[1;33m:\u001b[0m\u001b[1;33m\u001b[0m\u001b[1;33m\u001b[0m\u001b[0m\n\u001b[0m\u001b[0;32m     49\u001b[0m         \u001b[1;32mif\u001b[0m \u001b[0mitem\u001b[0m\u001b[1;33m[\u001b[0m\u001b[1;34m'area'\u001b[0m\u001b[1;33m]\u001b[0m \u001b[1;32mnot\u001b[0m \u001b[1;32min\u001b[0m \u001b[0mdata\u001b[0m\u001b[1;33m:\u001b[0m\u001b[1;33m\u001b[0m\u001b[1;33m\u001b[0m\u001b[0m\n\u001b[0;32m     50\u001b[0m             \u001b[0mdata\u001b[0m\u001b[1;33m.\u001b[0m\u001b[0mupdate\u001b[0m\u001b[1;33m(\u001b[0m\u001b[1;33m{\u001b[0m\u001b[0mitem\u001b[0m\u001b[1;33m[\u001b[0m\u001b[1;34m'area'\u001b[0m\u001b[1;33m]\u001b[0m\u001b[1;33m:\u001b[0m\u001b[1;36m0\u001b[0m\u001b[1;33m}\u001b[0m\u001b[1;33m)\u001b[0m\u001b[1;33m\u001b[0m\u001b[1;33m\u001b[0m\u001b[0m\n",
      "\u001b[1;31mKeyError\u001b[0m: 'data'"
     ]
    }
   ],
   "source": [
    "# -*- coding: utf-8 -*-\n",
    "\n",
    "import time\n",
    "import json\n",
    "import requests\n",
    "from datetime import datetime\n",
    "import numpy as np\n",
    "import matplotlib\n",
    "import matplotlib.figure\n",
    "from matplotlib.font_manager import FontProperties\n",
    "from matplotlib.backends.backend_agg import FigureCanvasAgg\n",
    "from matplotlib.patches import Polygon\n",
    "from matplotlib.collections import PatchCollection\n",
    "from mpl_toolkits.basemap import Basemap\n",
    "import matplotlib.pyplot as plt\n",
    "import matplotlib.dates as mdates\n",
    "\n",
    "plt.rcParams['font.sans-serif'] = ['FangSong']  # 设置默认字体\n",
    "plt.rcParams['axes.unicode_minus'] = False  # 解决保存图像时'-'显示为方块的问题\n",
    "\n",
    "def catch_daily():\n",
    "    \"\"\"抓取每日确诊和死亡数据\"\"\"\n",
    "\n",
    "    url = 'https://view.inews.qq.com/g2/getOnsInfo?name=wuwei_ww_cn_day_counts&callback=&_=%d'%int(time.time()*1000)\n",
    "    data = json.loads(requests.get(url=url).json()['data'])\n",
    "    data.sort(key=lambda x:x['date'])\n",
    "\n",
    "    date_list = list() # 日期\n",
    "    confirm_list = list() # 确诊\n",
    "    suspect_list = list() # 疑似\n",
    "    dead_list = list() # 死亡\n",
    "    heal_list = list() # 治愈\n",
    "    for item in data:\n",
    "        month, day = item['date'].split('.')\n",
    "        date_list.append(datetime.strptime('2020-%s-%s'%(month, day), '%Y-%m-%d'))\n",
    "        confirm_list.append(int(item['confirm']))\n",
    "        suspect_list.append(int(item['suspect']))\n",
    "        dead_list.append(int(item['dead']))\n",
    "        heal_list.append(int(item['heal']))\n",
    "\n",
    "    return date_list, confirm_list, suspect_list, dead_list, heal_list\n",
    "\n",
    "def catch_distribution():\n",
    "    \"\"\"抓取行政区域确诊分布数据\"\"\"\n",
    "\n",
    "    data = {'西藏':0}\n",
    "    url = 'https://view.inews.qq.com/g2/getOnsInfo?name=wuwei_ww_area_counts&callback=&_=%d'%int(time.time()*1000)\n",
    "    for item in json.loads(requests.get(url=url).json()['data']):\n",
    "        if item['area'] not in data:\n",
    "            data.update({item['area']:0})\n",
    "        data[item['area']] += int(item['confirm'])\n",
    "\n",
    "    return data\n",
    "\n",
    "def plot_daily():\n",
    "    \"\"\"绘制每日确诊和死亡数据\"\"\"\n",
    "\n",
    "    date_list, confirm_list, suspect_list, dead_list, heal_list = catch_daily() # 获取数据\n",
    "\n",
    "    plt.figure('2019-nCoV疫情统计图表', facecolor='#f4f4f4', figsize=(10, 8))\n",
    "    plt.title('2019-nCoV疫情曲线', fontsize=20)\n",
    "\n",
    "    plt.plot(date_list, confirm_list, label='确诊')\n",
    "    plt.plot(date_list, suspect_list, label='疑似')\n",
    "    plt.plot(date_list, dead_list, label='死亡')\n",
    "    plt.plot(date_list, heal_list, label='治愈')\n",
    "\n",
    "    plt.gca().xaxis.set_major_formatter(mdates.DateFormatter('%m-%d')) # 格式化时间轴标注\n",
    "    plt.gcf().autofmt_xdate() # 优化标注（自动倾斜）\n",
    "    plt.grid(linestyle=':') # 显示网格\n",
    "    plt.legend(loc='best') # 显示图例\n",
    "    plt.savefig('2019-nCoV疫情曲线.png') # 保存为文件\n",
    "    #plt.show()\n",
    "\n",
    "def plot_distribution():\n",
    "    \"\"\"绘制行政区域确诊分布数据\"\"\"\n",
    "\n",
    "    data = catch_distribution()\n",
    "\n",
    "    font = FontProperties(fname='res/simsun.ttf', size=14)\n",
    "    lat_min = 0\n",
    "    lat_max = 60\n",
    "    lon_min = 70\n",
    "    lon_max = 140\n",
    "\n",
    "    handles = [\n",
    "            matplotlib.patches.Patch(color='#ffaa85', alpha=1, linewidth=0),\n",
    "            matplotlib.patches.Patch(color='#ff7b69', alpha=1, linewidth=0),\n",
    "            matplotlib.patches.Patch(color='#bf2121', alpha=1, linewidth=0),\n",
    "            matplotlib.patches.Patch(color='#7f1818', alpha=1, linewidth=0),\n",
    "]\n",
    "    labels = [ '1-9人', '10-99人', '100-999人', '>1000人']\n",
    "\n",
    "    fig = matplotlib.figure.Figure()\n",
    "    fig.set_size_inches(10, 8) # 设置绘图板尺寸\n",
    "    axes = fig.add_axes((0.1, 0.12, 0.8, 0.8)) # rect = l,b,w,h\n",
    "    m = Basemap(llcrnrlon=lon_min, urcrnrlon=lon_max, llcrnrlat=lat_min, urcrnrlat=lat_max, resolution='l', ax=axes)\n",
    "    m.readshapefile('res/china-shapefiles-master/china', 'province', drawbounds=True)\n",
    "    m.readshapefile('res/china-shapefiles-master/china_nine_dotted_line', 'section', drawbounds=True)\n",
    "    m.drawcoastlines(color='black') # 洲际线\n",
    "    m.drawcountries(color='black')  # 国界线\n",
    "    m.drawparallels(np.arange(lat_min,lat_max,10), labels=[1,0,0,0]) #画经度线\n",
    "    m.drawmeridians(np.arange(lon_min,lon_max,10), labels=[0,0,0,1]) #画纬度线\n",
    "\n",
    "    for info, shape in zip(m.province_info, m.province):\n",
    "        pname = info['OWNER'].strip('\\x00')\n",
    "        fcname = info['FCNAME'].strip('\\x00')\n",
    "        if pname != fcname: # 不绘制海岛\n",
    "            continue\n",
    "\n",
    "        for key in data.keys():\n",
    "            if key in pname:\n",
    "                if data[key] == 0:\n",
    "                    color = '#f0f0f0'\n",
    "                elif data[key] < 10:\n",
    "                    color = '#ffaa85'\n",
    "                elif data[key] <100:\n",
    "                    color = '#ff7b69'\n",
    "                elif  data[key] < 1000:\n",
    "                    color = '#bf2121'\n",
    "                else:\n",
    "                    color = '#7f1818'\n",
    "                break\n",
    "\n",
    "        poly = Polygon(shape, facecolor=color, edgecolor=color)\n",
    "        axes.add_patch(poly)\n",
    "\n",
    "    axes.legend(handles, labels, bbox_to_anchor=(0.5, -0.11), loc='lower center', ncol=4, prop=font)\n",
    "    axes.set_title(\"2019-nCoV疫情地图\", fontproperties=font)\n",
    "    FigureCanvasAgg(fig)\n",
    "    fig.savefig('2019-nCoV疫情地图.png')\n",
    "\n",
    "if __name__ == '__main__':\n",
    "#     plot_daily()\n",
    "    plot_distribution()"
   ]
  },
  {
   "cell_type": "code",
   "execution_count": 5,
   "metadata": {},
   "outputs": [],
   "source": [
    "url = 'https://view.inews.qq.com/g2/getOnsInfo?name=wuwei_ww_area_counts&callback=&_=%d'%int(time.time()*1000)\n",
    "r=requests.get(url=url)"
   ]
  },
  {
   "cell_type": "code",
   "execution_count": 6,
   "metadata": {},
   "outputs": [
    {
     "name": "stdout",
     "output_type": "stream",
     "text": [
      "200\n"
     ]
    }
   ],
   "source": [
    "print(r.status_code)"
   ]
  },
  {
   "cell_type": "code",
   "execution_count": 7,
   "metadata": {},
   "outputs": [
    {
     "data": {
      "text/plain": [
       "{'ret': -2,\n",
       " 'msg': ' err:get dict value failed, key:wuwei_ww_area_counts, ret: -1'}"
      ]
     },
     "execution_count": 7,
     "metadata": {},
     "output_type": "execute_result"
    }
   ],
   "source": [
    "r.json()"
   ]
  },
  {
   "cell_type": "code",
   "execution_count": 12,
   "metadata": {},
   "outputs": [
    {
     "data": {
      "image/png": "[encoded data removed]",
      "text/plain": [
       "<Figure size 432x288 with 1 Axes>"
      ]
     },
     "metadata": {},
     "output_type": "display_data"
    }
   ],
   "source": [
    "from mpl_toolkits.basemap import Basemap\n",
    "import numpy as np\n",
    "import matplotlib.pyplot as plt\n",
    "width = 1000000; lon_0 = 121.47; lat_0 = 31.27\n",
    "m = Basemap(width=width,height=width,projection='aeqd',\n",
    "            lat_0=lat_0,lon_0=lon_0)\n",
    "# fill background.\n",
    "m.drawmapboundary(fill_color='aqua')\n",
    "# draw coasts and fill continents.\n",
    "m.drawcoastlines(linewidth=0.5)\n",
    "m.fillcontinents(color='coral',lake_color='aqua')\n",
    "# 20 degree graticule.\n",
    "m.drawparallels(np.arange(-80,81,20))\n",
    "m.drawmeridians(np.arange(-180,180,20))\n",
    "# draw a black dot at the center.\n",
    "xpt, ypt = m(lon_0, lat_0)\n",
    "m.plot([xpt],[ypt],'ko')\n",
    "# draw the title.\n",
    "plt.title('Azimuthal Equidistant Projection')\n",
    "plt.show()"
   ]
  },
  {
   "cell_type": "code",
   "execution_count": null,
   "metadata": {},
   "outputs": [],
   "source": []
  }
 ],
 "metadata": {
  "kernelspec": {
   "display_name": "Python 3",
   "language": "python",
   "name": "python3"
  },
  "language_info": {
   "codemirror_mode": {
    "name": "ipython",
    "version": 3
   },
   "file_extension": ".py",
   "mimetype": "text/x-python",
   "name": "python",
   "nbconvert_exporter": "python",
   "pygments_lexer": "ipython3",
   "version": "3.7.2"
  }
 },
 "nbformat": 4,
 "nbformat_minor": 4
}
